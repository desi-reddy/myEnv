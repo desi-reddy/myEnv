{
 "cells": [
  {
   "cell_type": "code",
   "execution_count": 1,
   "id": "128bf5a4-5ce6-47c4-9c26-56050a7280cf",
   "metadata": {},
   "outputs": [],
   "source": [
    "import numpy as st"
   ]
  },
  {
   "cell_type": "code",
   "execution_count": 2,
   "id": "20a4ac21-6dda-4a25-bf7e-0b7208380a38",
   "metadata": {},
   "outputs": [],
   "source": [
    "import pandas as pd"
   ]
  },
  {
   "cell_type": "code",
   "execution_count": 3,
   "id": "e63fb00b-6b18-4a69-9e3f-03949eba04b2",
   "metadata": {},
   "outputs": [],
   "source": [
    "import streamlit as st"
   ]
  },
  {
   "cell_type": "code",
   "execution_count": 5,
   "id": "a1d2d3bc-d51e-49f7-bf3a-76f6bd9e20b9",
   "metadata": {},
   "outputs": [
    {
     "name": "stdout",
     "output_type": "stream",
     "text": [
      "10\n"
     ]
    }
   ],
   "source": [
    "x = 4\n",
    "\n",
    "y = 6\n",
    "\n",
    "z = x + y\n",
    "\n",
    "print(z)"
   ]
  },
  {
   "cell_type": "code",
   "execution_count": null,
   "id": "d09a5d1a-f8f2-4d38-a261-2297d53f5a62",
   "metadata": {},
   "outputs": [],
   "source": []
  }
 ],
 "metadata": {
  "kernelspec": {
   "display_name": "Python 3 (ipykernel)",
   "language": "python",
   "name": "python3"
  },
  "language_info": {
   "codemirror_mode": {
    "name": "ipython",
    "version": 3
   },
   "file_extension": ".py",
   "mimetype": "text/x-python",
   "name": "python",
   "nbconvert_exporter": "python",
   "pygments_lexer": "ipython3",
   "version": "3.11.7"
  }
 },
 "nbformat": 4,
 "nbformat_minor": 5
}
